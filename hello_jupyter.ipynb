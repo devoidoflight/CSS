{
 "cells": [
  {
   "cell_type": "markdown",
   "id": "310500ed",
   "metadata": {},
   "source": [
    "# Hello World\n",
    "\n",
    "Repository for the workshop [My Repository](https://github.com/devoidoflight/hello_jupyter23)"
   ]
  },
  {
   "cell_type": "code",
   "execution_count": 1,
   "id": "921ef49b",
   "metadata": {},
   "outputs": [
    {
     "data": {
      "text/plain": [
       "0"
      ]
     },
     "execution_count": 1,
     "metadata": {},
     "output_type": "execute_result"
    }
   ],
   "source": [
    "1-1"
   ]
  },
  {
   "cell_type": "code",
   "execution_count": null,
   "id": "e0312ecf",
   "metadata": {},
   "outputs": [],
   "source": []
  }
 ],
 "metadata": {
  "kernelspec": {
   "display_name": "Python 3 (ipykernel)",
   "language": "python",
   "name": "python3"
  },
  "language_info": {
   "codemirror_mode": {
    "name": "ipython",
    "version": 3
   },
   "file_extension": ".py",
   "mimetype": "text/x-python",
   "name": "python",
   "nbconvert_exporter": "python",
   "pygments_lexer": "ipython3",
   "version": "3.9.7"
  }
 },
 "nbformat": 4,
 "nbformat_minor": 5
}
